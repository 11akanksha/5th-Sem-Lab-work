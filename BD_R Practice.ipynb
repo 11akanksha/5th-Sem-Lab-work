{
 "cells": [
  {
   "cell_type": "markdown",
   "id": "5c08c216",
   "metadata": {},
   "source": [
    "Write an R-script to generate the sum of the number series as follows using while\n",
    "loop -\n",
    "1 8 27 64"
   ]
  },
  {
   "cell_type": "code",
   "execution_count": 1,
   "id": "26f93a58",
   "metadata": {},
   "outputs": [
    {
     "name": "stdout",
     "output_type": "stream",
     "text": [
      "5\n",
      "[1] 225\n"
     ]
    }
   ],
   "source": [
    "i <- 1\n",
    "n <- readline()\n",
    "n <- as.integer(n)\n",
    "sum <- 0\n",
    "while(i<=n){\n",
    "    sum = sum + (i**3)\n",
    "    i = i + 1\n",
    "}\n",
    "print(sum)"
   ]
  },
  {
   "cell_type": "markdown",
   "id": "3e2536ba",
   "metadata": {},
   "source": [
    "Write an R-script to sum the series S=1+(1+2)+(1+2+3)+...+(1+2+3+...+n)"
   ]
  },
  {
   "cell_type": "code",
   "execution_count": 3,
   "id": "e2523734",
   "metadata": {},
   "outputs": [
    {
     "name": "stdout",
     "output_type": "stream",
     "text": [
      "Enter the value of n:5\n",
      "[1] 35\n"
     ]
    }
   ],
   "source": [
    "n <- readline(prompt = \"Enter the value of n:\")\n",
    "n <- as.integer(n)\n",
    "sum <- (n * (n + 1) * (2 * n + 4))/12\n",
    "print(sum)"
   ]
  },
  {
   "cell_type": "markdown",
   "id": "0e31a171",
   "metadata": {},
   "source": [
    "Write an R-script to reverse the number"
   ]
  },
  {
   "cell_type": "code",
   "execution_count": 7,
   "id": "d8c77a85",
   "metadata": {},
   "outputs": [
    {
     "name": "stdout",
     "output_type": "stream",
     "text": [
      "Enter a number:1234\n",
      "[1] 4321\n"
     ]
    }
   ],
   "source": [
    "n <- readline(prompt = \"Enter a number:\")\n",
    "n <- as.integer(n)\n",
    "rev <- 0\n",
    "while(n > 0){\n",
    "    t <- n%%10\n",
    "    n <- n%/%10\n",
    "    rev <- 10 * rev + t\n",
    "}\n",
    "print(rev)"
   ]
  },
  {
   "cell_type": "markdown",
   "id": "679bec11",
   "metadata": {},
   "source": [
    "Write an R-script to design a menu driven program as follows and then\n",
    "evaluate any one of the operation according to your choice using switch\n",
    "case statement.\n",
    "1. Area of circle, 2. Area of rectangle, 3. Area of Triangle"
   ]
  },
  {
   "cell_type": "code",
   "execution_count": 14,
   "id": "a2fe5044",
   "metadata": {},
   "outputs": [
    {
     "name": "stdout",
     "output_type": "stream",
     "text": [
      "Enter your choice: 2\n",
      "Enter base of the rectangle:20\n",
      "Enter height of the rectangle:10\n",
      "[1] 200\n"
     ]
    }
   ],
   "source": [
    "c <- readline(prompt = \"Enter your choice: \")\n",
    "area <- switch(\n",
    "    c,\n",
    "    \"1\" = {\n",
    "        r <- readline(prompt = \"Enter value of radius: \")\n",
    "        r <- as.integer(r)\n",
    "        2 * 3.14 * r\n",
    "    },\n",
    "    \"2\" = {\n",
    "        b <- readline(prompt = \"Enter base of the rectangle:\")\n",
    "        h <- readline(prompt = \"Enter height of the rectangle:\")\n",
    "        b <- as.integer(b)\n",
    "        h <- as.integer(h)\n",
    "        b * h\n",
    "    },\n",
    "    \"3\" = {\n",
    "        b <- readline(prompt = \"Enter base of the triangle:\")\n",
    "        h <- readline(prompt = \"Enter height of the triangle:\")\n",
    "        b <- as.integer(b)\n",
    "        h <- as.integer(h)\n",
    "        1/2 * b * h\n",
    "    }\n",
    ")\n",
    "print(area)"
   ]
  },
  {
   "cell_type": "markdown",
   "id": "ee0e20e5",
   "metadata": {},
   "source": [
    "Write an R-script to analyze whether the given year is a leap year or not?"
   ]
  },
  {
   "cell_type": "code",
   "execution_count": 16,
   "id": "206535ae",
   "metadata": {},
   "outputs": [
    {
     "name": "stdout",
     "output_type": "stream",
     "text": [
      "Enter a year: 2021\n",
      "[1] \"2021 is not a leap year\"\n"
     ]
    }
   ],
   "source": [
    "y = as.integer(readline(prompt=\"Enter a year: \"))\n",
    "if((y %% 4) == 0) {\n",
    "    if((y %% 100) == 0) {\n",
    "        if((y %% 400) == 0) {\n",
    "            print(paste(y,\"is a leap year\"))\n",
    "        } else {\n",
    "            print(paste(y,\"is not a leap year\"))\n",
    "        }\n",
    "    } else {\n",
    "        print(paste(y,\"is a leap year\"))\n",
    "    }\n",
    "} else {\n",
    "    print(paste(y,\"is not a leap year\"))\n",
    "}"
   ]
  },
  {
   "cell_type": "markdown",
   "id": "e71931f0",
   "metadata": {},
   "source": [
    "WAF to convert dollar to inr and use the same function to perform something"
   ]
  },
  {
   "cell_type": "code",
   "execution_count": 17,
   "id": "a1a37038",
   "metadata": {},
   "outputs": [
    {
     "name": "stdout",
     "output_type": "stream",
     "text": [
      "Enter Dollar value : 100\n"
     ]
    },
    {
     "data": {
      "text/html": [
       "7500"
      ],
      "text/latex": [
       "7500"
      ],
      "text/markdown": [
       "7500"
      ],
      "text/plain": [
       "[1] 7500"
      ]
     },
     "metadata": {},
     "output_type": "display_data"
    }
   ],
   "source": [
    "dollar_to_inr <- function(d){\n",
    "    return (75 * d)\n",
    "}\n",
    "\n",
    "dollar_to_inr(as.integer(readline(prompt = \"Enter Dollar value : \")))"
   ]
  },
  {
   "cell_type": "markdown",
   "id": "d991fb5c",
   "metadata": {},
   "source": [
    "Wrtie a R-script to develop a function that recieves 5 numbers and display the sum ,average\n",
    "std deviation of these numbers."
   ]
  },
  {
   "cell_type": "code",
   "execution_count": 31,
   "id": "2669dbe9",
   "metadata": {},
   "outputs": [
    {
     "name": "stdout",
     "output_type": "stream",
     "text": [
      "[1] \"sum is  15\"\n",
      "[1] \"Average is  3\"\n",
      "[1] \"std deviation is  1.58113883008419\"\n"
     ]
    }
   ],
   "source": [
    "stats <- function(nos){\n",
    "    s <- sum(nos)\n",
    "    avg <- mean(nos)\n",
    "    std_div <- sd(nos)\n",
    "    print(paste(\"sum is \", s))\n",
    "    print(paste(\"Average is \" , avg))\n",
    "    print(paste(\"std deviation is \" , std_div))\n",
    "}\n",
    "nums <- c(1,2,3,4,5)\n",
    "stats(as.integer(nums))"
   ]
  },
  {
   "cell_type": "markdown",
   "id": "22f1ba5c",
   "metadata": {},
   "source": [
    "Randomly generate 1,000 pets, from the choices “dog,” “cat,” “hamster,” and\n",
    "“goldfish,” with equal probability of each being chosen. Display the first few\n",
    "values of the resultant variable, and count the number of each type of pet."
   ]
  },
  {
   "cell_type": "code",
   "execution_count": 32,
   "id": "055116c9",
   "metadata": {},
   "outputs": [
    {
     "name": "stdout",
     "output_type": "stream",
     "text": [
      " chr [1:1000] \"hamster\" \"cat\" \"cat\" \"cat\" \"cat\" \"goldfish\" \"cat\" \"hamster\" ...\n"
     ]
    },
    {
     "data": {
      "text/html": [
       "<dl class=dl-horizontal>\n",
       "\t<dt>cat</dt>\n",
       "\t\t<dd>233</dd>\n",
       "\t<dt>dog</dt>\n",
       "\t\t<dd>264</dd>\n",
       "\t<dt>goldfish</dt>\n",
       "\t\t<dd>260</dd>\n",
       "\t<dt>hamster</dt>\n",
       "\t\t<dd>243</dd>\n",
       "</dl>\n"
      ],
      "text/latex": [
       "\\begin{description*}\n",
       "\\item[cat] 233\n",
       "\\item[dog] 264\n",
       "\\item[goldfish] 260\n",
       "\\item[hamster] 243\n",
       "\\end{description*}\n"
      ],
      "text/markdown": [
       "cat\n",
       ":   233dog\n",
       ":   264goldfish\n",
       ":   260hamster\n",
       ":   243\n",
       "\n"
      ],
      "text/plain": [
       "     cat      dog goldfish  hamster \n",
       "     233      264      260      243 "
      ]
     },
     "metadata": {},
     "output_type": "display_data"
    }
   ],
   "source": [
    "pet_data <- sample(c( \"dog\" , \"cat\" , \"hamster\" , \"goldfish\"), 1000 , replace = TRUE)\n",
    "# First few variables:\n",
    "str(pet_data)\n",
    "# count of each type:\n",
    "summary(as.factor(pet_data))"
   ]
  },
  {
   "cell_type": "markdown",
   "id": "06823972",
   "metadata": {},
   "source": [
    "The beaver1 and beaver2 data frames contain body temperatures of two\n",
    "beavers. Add a column named id to the beaver1 dataset, where the value is\n",
    "always 1. Similarly, add an id column to beaver2, with value 2. Vertically\n",
    "concatenate the two data frames and find the subset where body temp is above\n",
    "10."
   ]
  },
  {
   "cell_type": "code",
   "execution_count": 43,
   "id": "80658d82",
   "metadata": {},
   "outputs": [
    {
     "name": "stdout",
     "output_type": "stream",
     "text": [
      "  day temp id\n",
      "4 Thu 37.0  1\n",
      "5 Fri 36.3  1\n",
      "6 Mon 37.0  2\n",
      "7 Tue 36.0  2\n",
      "8 Wed 35.5  2\n"
     ]
    }
   ],
   "source": [
    "beaver1 <- data.frame(\n",
    "    \"day\" = c(\"Mon\",\"Tue\",\"Wed\",\"Thu\",\"Fri\"),\n",
    "    \"temp\" = c(6,6.3,6.5,37,36.3)\n",
    ")\n",
    "beaver2 <- data.frame(\n",
    "    \"day\" = c(\"Mon\",\"Tue\",\"Wed\",\"Thu\",\"Fri\"),\n",
    "    \"temp\" = c(37,36,35.5,6.3,6.3)\n",
    ")\n",
    "\n",
    "beaver1$id <- 1\n",
    "beaver2$id <- 2\n",
    "\n",
    "beavers <- rbind(beaver1,beaver2)\n",
    "print(beavers[beavers$temp > 10,])"
   ]
  },
  {
   "cell_type": "code",
   "execution_count": null,
   "id": "ff87edba",
   "metadata": {},
   "outputs": [],
   "source": []
  }
 ],
 "metadata": {
  "kernelspec": {
   "display_name": "R",
   "language": "R",
   "name": "ir"
  },
  "language_info": {
   "codemirror_mode": "r",
   "file_extension": ".r",
   "mimetype": "text/x-r-source",
   "name": "R",
   "pygments_lexer": "r",
   "version": "3.6.1"
  }
 },
 "nbformat": 4,
 "nbformat_minor": 5
}
